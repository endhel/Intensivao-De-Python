{
 "cells": [
  {
   "cell_type": "markdown",
   "metadata": {},
   "source": [
    "# Análise de Dados com Python\n",
    "\n",
    "### Desafio:\n",
    "\n",
    "Você trabalha em uma empresa de telecom e tem clientes de vários serviços diferentes, entre os principais: internet e telefone.\n",
    "\n",
    "O problema é que, analisando o histórico dos clientes dos últimos anos, você percebeu que a empresa está com Churn de mais de 26% dos clientes.\n",
    "\n",
    "Isso representa uma perda de milhões para a empresa.\n",
    "\n",
    "O que a empresa precisa fazer para resolver isso?\n",
    "\n",
    "Base de Dados: https://drive.google.com/drive/folders/1T7D0BlWkNuy_MDpUHuBG44kT80EmRYIs?usp=sharing <br>\n",
    "Link Original do Kaggle: https://www.kaggle.com/radmirzosimov/telecom-users-dataset"
   ]
  },
  {
   "cell_type": "markdown",
   "metadata": {},
   "source": [
    "# 1.0. Importações"
   ]
  },
  {
   "cell_type": "code",
   "execution_count": 1,
   "metadata": {
    "ExecuteTime": {
     "end_time": "2022-03-12T12:31:24.960241Z",
     "start_time": "2022-03-12T12:31:17.306031Z"
    }
   },
   "outputs": [],
   "source": [
    "import pandas as pd"
   ]
  },
  {
   "cell_type": "code",
   "execution_count": 2,
   "metadata": {
    "ExecuteTime": {
     "end_time": "2022-03-12T12:31:34.595498Z",
     "start_time": "2022-03-12T12:31:34.087138Z"
    },
    "scrolled": true
   },
   "outputs": [
    {
     "data": {
      "text/html": [
       "<div>\n",
       "<style scoped>\n",
       "    .dataframe tbody tr th:only-of-type {\n",
       "        vertical-align: middle;\n",
       "    }\n",
       "\n",
       "    .dataframe tbody tr th {\n",
       "        vertical-align: top;\n",
       "    }\n",
       "\n",
       "    .dataframe thead th {\n",
       "        text-align: right;\n",
       "    }\n",
       "</style>\n",
       "<table border=\"1\" class=\"dataframe\">\n",
       "  <thead>\n",
       "    <tr style=\"text-align: right;\">\n",
       "      <th></th>\n",
       "      <th>Unnamed: 0</th>\n",
       "      <th>IDCliente</th>\n",
       "      <th>Genero</th>\n",
       "      <th>Aposentado</th>\n",
       "      <th>Casado</th>\n",
       "      <th>Dependentes</th>\n",
       "      <th>MesesComoCliente</th>\n",
       "      <th>ServicoTelefone</th>\n",
       "      <th>MultiplasLinhas</th>\n",
       "      <th>ServicoInternet</th>\n",
       "      <th>...</th>\n",
       "      <th>ServicoSuporteTecnico</th>\n",
       "      <th>ServicoStreamingTV</th>\n",
       "      <th>ServicoFilmes</th>\n",
       "      <th>TipoContrato</th>\n",
       "      <th>FaturaDigital</th>\n",
       "      <th>FormaPagamento</th>\n",
       "      <th>ValorMensal</th>\n",
       "      <th>TotalGasto</th>\n",
       "      <th>Churn</th>\n",
       "      <th>Codigo</th>\n",
       "    </tr>\n",
       "  </thead>\n",
       "  <tbody>\n",
       "    <tr>\n",
       "      <th>0</th>\n",
       "      <td>1869</td>\n",
       "      <td>7010-BRBUU</td>\n",
       "      <td>Masculino</td>\n",
       "      <td>0</td>\n",
       "      <td>Sim</td>\n",
       "      <td>Sim</td>\n",
       "      <td>72</td>\n",
       "      <td>Sim</td>\n",
       "      <td>Sim</td>\n",
       "      <td>Nao</td>\n",
       "      <td>...</td>\n",
       "      <td>SemInternet</td>\n",
       "      <td>SemInternet</td>\n",
       "      <td>SemInternet</td>\n",
       "      <td>2 anos</td>\n",
       "      <td>Nao</td>\n",
       "      <td>CartaoCredito</td>\n",
       "      <td>24.10</td>\n",
       "      <td>1734.65</td>\n",
       "      <td>Nao</td>\n",
       "      <td>NaN</td>\n",
       "    </tr>\n",
       "    <tr>\n",
       "      <th>1</th>\n",
       "      <td>4528</td>\n",
       "      <td>9688-YGXVR</td>\n",
       "      <td>Feminino</td>\n",
       "      <td>0</td>\n",
       "      <td>Nao</td>\n",
       "      <td>Nao</td>\n",
       "      <td>44</td>\n",
       "      <td>Sim</td>\n",
       "      <td>Nao</td>\n",
       "      <td>Fibra</td>\n",
       "      <td>...</td>\n",
       "      <td>Nao</td>\n",
       "      <td>Sim</td>\n",
       "      <td>Nao</td>\n",
       "      <td>Mensal</td>\n",
       "      <td>Sim</td>\n",
       "      <td>CartaoCredito</td>\n",
       "      <td>88.15</td>\n",
       "      <td>3973.2</td>\n",
       "      <td>Nao</td>\n",
       "      <td>NaN</td>\n",
       "    </tr>\n",
       "    <tr>\n",
       "      <th>2</th>\n",
       "      <td>6344</td>\n",
       "      <td>9286-DOJGF</td>\n",
       "      <td>Feminino</td>\n",
       "      <td>1</td>\n",
       "      <td>Sim</td>\n",
       "      <td>Nao</td>\n",
       "      <td>38</td>\n",
       "      <td>Sim</td>\n",
       "      <td>Sim</td>\n",
       "      <td>Fibra</td>\n",
       "      <td>...</td>\n",
       "      <td>Nao</td>\n",
       "      <td>Nao</td>\n",
       "      <td>Nao</td>\n",
       "      <td>Mensal</td>\n",
       "      <td>Sim</td>\n",
       "      <td>DebitoAutomatico</td>\n",
       "      <td>74.95</td>\n",
       "      <td>2869.85</td>\n",
       "      <td>Sim</td>\n",
       "      <td>NaN</td>\n",
       "    </tr>\n",
       "    <tr>\n",
       "      <th>3</th>\n",
       "      <td>6739</td>\n",
       "      <td>6994-KERXL</td>\n",
       "      <td>Masculino</td>\n",
       "      <td>0</td>\n",
       "      <td>Nao</td>\n",
       "      <td>Nao</td>\n",
       "      <td>4</td>\n",
       "      <td>Sim</td>\n",
       "      <td>Nao</td>\n",
       "      <td>DSL</td>\n",
       "      <td>...</td>\n",
       "      <td>Nao</td>\n",
       "      <td>Nao</td>\n",
       "      <td>Sim</td>\n",
       "      <td>Mensal</td>\n",
       "      <td>Sim</td>\n",
       "      <td>BoletoEletronico</td>\n",
       "      <td>55.90</td>\n",
       "      <td>238.5</td>\n",
       "      <td>Nao</td>\n",
       "      <td>NaN</td>\n",
       "    </tr>\n",
       "    <tr>\n",
       "      <th>4</th>\n",
       "      <td>432</td>\n",
       "      <td>2181-UAESM</td>\n",
       "      <td>Masculino</td>\n",
       "      <td>0</td>\n",
       "      <td>Nao</td>\n",
       "      <td>Nao</td>\n",
       "      <td>2</td>\n",
       "      <td>Sim</td>\n",
       "      <td>Nao</td>\n",
       "      <td>DSL</td>\n",
       "      <td>...</td>\n",
       "      <td>Nao</td>\n",
       "      <td>Nao</td>\n",
       "      <td>Nao</td>\n",
       "      <td>Mensal</td>\n",
       "      <td>Nao</td>\n",
       "      <td>BoletoEletronico</td>\n",
       "      <td>53.45</td>\n",
       "      <td>119.5</td>\n",
       "      <td>Nao</td>\n",
       "      <td>NaN</td>\n",
       "    </tr>\n",
       "  </tbody>\n",
       "</table>\n",
       "<p>5 rows × 23 columns</p>\n",
       "</div>"
      ],
      "text/plain": [
       "   Unnamed: 0   IDCliente     Genero  Aposentado Casado Dependentes  \\\n",
       "0        1869  7010-BRBUU  Masculino           0    Sim         Sim   \n",
       "1        4528  9688-YGXVR   Feminino           0    Nao         Nao   \n",
       "2        6344  9286-DOJGF   Feminino           1    Sim         Nao   \n",
       "3        6739  6994-KERXL  Masculino           0    Nao         Nao   \n",
       "4         432  2181-UAESM  Masculino           0    Nao         Nao   \n",
       "\n",
       "   MesesComoCliente ServicoTelefone MultiplasLinhas ServicoInternet  ...  \\\n",
       "0                72             Sim             Sim             Nao  ...   \n",
       "1                44             Sim             Nao           Fibra  ...   \n",
       "2                38             Sim             Sim           Fibra  ...   \n",
       "3                 4             Sim             Nao             DSL  ...   \n",
       "4                 2             Sim             Nao             DSL  ...   \n",
       "\n",
       "  ServicoSuporteTecnico ServicoStreamingTV ServicoFilmes TipoContrato  \\\n",
       "0           SemInternet        SemInternet   SemInternet       2 anos   \n",
       "1                   Nao                Sim           Nao       Mensal   \n",
       "2                   Nao                Nao           Nao       Mensal   \n",
       "3                   Nao                Nao           Sim       Mensal   \n",
       "4                   Nao                Nao           Nao       Mensal   \n",
       "\n",
       "  FaturaDigital    FormaPagamento ValorMensal TotalGasto Churn  Codigo  \n",
       "0           Nao     CartaoCredito       24.10    1734.65   Nao     NaN  \n",
       "1           Sim     CartaoCredito       88.15     3973.2   Nao     NaN  \n",
       "2           Sim  DebitoAutomatico       74.95    2869.85   Sim     NaN  \n",
       "3           Sim  BoletoEletronico       55.90      238.5   Nao     NaN  \n",
       "4           Nao  BoletoEletronico       53.45      119.5   Nao     NaN  \n",
       "\n",
       "[5 rows x 23 columns]"
      ]
     },
     "execution_count": 2,
     "metadata": {},
     "output_type": "execute_result"
    }
   ],
   "source": [
    "df = pd.read_csv( 'data/telecom_users.csv' )\n",
    "df.head()"
   ]
  },
  {
   "cell_type": "markdown",
   "metadata": {},
   "source": [
    "# 2.0. Tratamento de Dados"
   ]
  },
  {
   "cell_type": "code",
   "execution_count": 3,
   "metadata": {
    "ExecuteTime": {
     "end_time": "2022-03-12T12:31:49.105594Z",
     "start_time": "2022-03-12T12:31:49.079437Z"
    }
   },
   "outputs": [],
   "source": [
    "# Exluir colunas inúteis\n",
    "df.drop( 'Unnamed: 0', axis=1, inplace=True )"
   ]
  },
  {
   "cell_type": "code",
   "execution_count": 4,
   "metadata": {
    "ExecuteTime": {
     "end_time": "2022-03-12T12:31:52.232182Z",
     "start_time": "2022-03-12T12:31:52.219214Z"
    }
   },
   "outputs": [
    {
     "data": {
      "text/plain": [
       "IDCliente                  object\n",
       "Genero                     object\n",
       "Aposentado                  int64\n",
       "Casado                     object\n",
       "Dependentes                object\n",
       "MesesComoCliente            int64\n",
       "ServicoTelefone            object\n",
       "MultiplasLinhas            object\n",
       "ServicoInternet            object\n",
       "ServicoSegurancaOnline     object\n",
       "ServicoBackupOnline        object\n",
       "ProtecaoEquipamento        object\n",
       "ServicoSuporteTecnico      object\n",
       "ServicoStreamingTV         object\n",
       "ServicoFilmes              object\n",
       "TipoContrato               object\n",
       "FaturaDigital              object\n",
       "FormaPagamento             object\n",
       "ValorMensal               float64\n",
       "TotalGasto                 object\n",
       "Churn                      object\n",
       "Codigo                    float64\n",
       "dtype: object"
      ]
     },
     "execution_count": 4,
     "metadata": {},
     "output_type": "execute_result"
    }
   ],
   "source": [
    "# Tipos dos dados\n",
    "df.dtypes"
   ]
  },
  {
   "cell_type": "code",
   "execution_count": 5,
   "metadata": {
    "ExecuteTime": {
     "end_time": "2022-03-12T12:34:38.350139Z",
     "start_time": "2022-03-12T12:34:38.313840Z"
    }
   },
   "outputs": [],
   "source": [
    "# Alterar tipo do dado\n",
    "df['TotalGasto'] = pd.to_numeric( df['TotalGasto'], errors='coerce' )"
   ]
  },
  {
   "cell_type": "code",
   "execution_count": 8,
   "metadata": {
    "ExecuteTime": {
     "end_time": "2022-03-12T12:43:50.030094Z",
     "start_time": "2022-03-12T12:43:49.910699Z"
    }
   },
   "outputs": [],
   "source": [
    "# Excluir colunas com valores faltantes\n",
    "df.dropna( how='all', axis=1, inplace=True )\n",
    "\n",
    "# Excluir linhas com valores faltantes\n",
    "df.dropna( how='any', axis=0, inplace=True )"
   ]
  },
  {
   "cell_type": "code",
   "execution_count": null,
   "metadata": {
    "ExecuteTime": {
     "end_time": "2022-03-12T12:43:52.774908Z",
     "start_time": "2022-03-12T12:43:52.754960Z"
    }
   },
   "outputs": [],
   "source": []
  },
  {
   "cell_type": "code",
   "execution_count": null,
   "metadata": {},
   "outputs": [],
   "source": []
  },
  {
   "cell_type": "markdown",
   "metadata": {},
   "source": [
    "### Conclusões e Ações"
   ]
  },
  {
   "cell_type": "markdown",
   "metadata": {},
   "source": [
    "Escreva aqui suas conclusões:"
   ]
  }
 ],
 "metadata": {
  "kernelspec": {
   "display_name": "Python 3",
   "language": "python",
   "name": "python3"
  },
  "language_info": {
   "codemirror_mode": {
    "name": "ipython",
    "version": 3
   },
   "file_extension": ".py",
   "mimetype": "text/x-python",
   "name": "python",
   "nbconvert_exporter": "python",
   "pygments_lexer": "ipython3",
   "version": "3.8.3"
  }
 },
 "nbformat": 4,
 "nbformat_minor": 4
}
